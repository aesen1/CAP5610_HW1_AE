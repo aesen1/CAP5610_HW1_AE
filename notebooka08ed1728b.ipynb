{
 "cells": [
  {
   "cell_type": "markdown",
   "id": "0a20d696",
   "metadata": {
    "papermill": {
     "duration": 0.005715,
     "end_time": "2022-09-20T00:03:19.643863",
     "exception": false,
     "start_time": "2022-09-20T00:03:19.638148",
     "status": "completed"
    },
    "tags": []
   },
   "source": [
    "Setting up"
   ]
  },
  {
   "cell_type": "code",
   "execution_count": 1,
   "id": "64b6584c",
   "metadata": {
    "execution": {
     "iopub.execute_input": "2022-09-20T00:03:19.656459Z",
     "iopub.status.busy": "2022-09-20T00:03:19.655768Z",
     "iopub.status.idle": "2022-09-20T00:03:21.241865Z",
     "shell.execute_reply": "2022-09-20T00:03:21.240265Z"
    },
    "papermill": {
     "duration": 1.596266,
     "end_time": "2022-09-20T00:03:21.245043",
     "exception": false,
     "start_time": "2022-09-20T00:03:19.648777",
     "status": "completed"
    },
    "tags": []
   },
   "outputs": [
    {
     "name": "stdout",
     "output_type": "stream",
     "text": [
      "['titanic']\n"
     ]
    }
   ],
   "source": [
    "import numpy as np\n",
    "import pandas as pd\n",
    "from sklearn import linear_model\n",
    "from sklearn import tree\n",
    "from sklearn.metrics import accuracy_score\n",
    "from sklearn.ensemble import RandomForestClassifier\n",
    "from sklearn.model_selection import train_test_split\n",
    "from sklearn import preprocessing\n",
    "from sklearn import metrics\n",
    "\n",
    "import os\n",
    "print(os.listdir(\"../input\"))\n",
    "\n",
    "training_file = \"../input/titanic/train.csv\"\n",
    "testing_file = \"../input/titanic/test.csv\"\n",
    "control_file = \"../input/titanic/gender_submission.csv\""
   ]
  },
  {
   "cell_type": "code",
   "execution_count": 2,
   "id": "45d3d288",
   "metadata": {
    "execution": {
     "iopub.execute_input": "2022-09-20T00:03:21.257336Z",
     "iopub.status.busy": "2022-09-20T00:03:21.256792Z",
     "iopub.status.idle": "2022-09-20T00:03:21.335162Z",
     "shell.execute_reply": "2022-09-20T00:03:21.333386Z"
    },
    "papermill": {
     "duration": 0.089146,
     "end_time": "2022-09-20T00:03:21.338197",
     "exception": false,
     "start_time": "2022-09-20T00:03:21.249051",
     "status": "completed"
    },
    "tags": []
   },
   "outputs": [
    {
     "name": "stdout",
     "output_type": "stream",
     "text": [
      "     PassengerId  Survived  Pclass  \\\n",
      "0              1         0       3   \n",
      "1              2         1       1   \n",
      "2              3         1       3   \n",
      "3              4         1       1   \n",
      "4              5         0       3   \n",
      "..           ...       ...     ...   \n",
      "886          887         0       2   \n",
      "887          888         1       1   \n",
      "888          889         0       3   \n",
      "889          890         1       1   \n",
      "890          891         0       3   \n",
      "\n",
      "                                                  Name     Sex   Age  SibSp  \\\n",
      "0                              Braund, Mr. Owen Harris    male  22.0      1   \n",
      "1    Cumings, Mrs. John Bradley (Florence Briggs Th...  female  38.0      1   \n",
      "2                               Heikkinen, Miss. Laina  female  26.0      0   \n",
      "3         Futrelle, Mrs. Jacques Heath (Lily May Peel)  female  35.0      1   \n",
      "4                             Allen, Mr. William Henry    male  35.0      0   \n",
      "..                                                 ...     ...   ...    ...   \n",
      "886                              Montvila, Rev. Juozas    male  27.0      0   \n",
      "887                       Graham, Miss. Margaret Edith  female  19.0      0   \n",
      "888           Johnston, Miss. Catherine Helen \"Carrie\"  female   NaN      1   \n",
      "889                              Behr, Mr. Karl Howell    male  26.0      0   \n",
      "890                                Dooley, Mr. Patrick    male  32.0      0   \n",
      "\n",
      "     Parch            Ticket     Fare Cabin Embarked  \n",
      "0        0         A/5 21171   7.2500   NaN        S  \n",
      "1        0          PC 17599  71.2833   C85        C  \n",
      "2        0  STON/O2. 3101282   7.9250   NaN        S  \n",
      "3        0            113803  53.1000  C123        S  \n",
      "4        0            373450   8.0500   NaN        S  \n",
      "..     ...               ...      ...   ...      ...  \n",
      "886      0            211536  13.0000   NaN        S  \n",
      "887      0            112053  30.0000   B42        S  \n",
      "888      2        W./C. 6607  23.4500   NaN        S  \n",
      "889      0            111369  30.0000  C148        C  \n",
      "890      0            370376   7.7500   NaN        Q  \n",
      "\n",
      "[891 rows x 12 columns]\n",
      "     PassengerId  Pclass                                          Name  \\\n",
      "0            892       3                              Kelly, Mr. James   \n",
      "1            893       3              Wilkes, Mrs. James (Ellen Needs)   \n",
      "2            894       2                     Myles, Mr. Thomas Francis   \n",
      "3            895       3                              Wirz, Mr. Albert   \n",
      "4            896       3  Hirvonen, Mrs. Alexander (Helga E Lindqvist)   \n",
      "..           ...     ...                                           ...   \n",
      "413         1305       3                            Spector, Mr. Woolf   \n",
      "414         1306       1                  Oliva y Ocana, Dona. Fermina   \n",
      "415         1307       3                  Saether, Mr. Simon Sivertsen   \n",
      "416         1308       3                           Ware, Mr. Frederick   \n",
      "417         1309       3                      Peter, Master. Michael J   \n",
      "\n",
      "        Sex   Age  SibSp  Parch              Ticket      Fare Cabin Embarked  \n",
      "0      male  34.5      0      0              330911    7.8292   NaN        Q  \n",
      "1    female  47.0      1      0              363272    7.0000   NaN        S  \n",
      "2      male  62.0      0      0              240276    9.6875   NaN        Q  \n",
      "3      male  27.0      0      0              315154    8.6625   NaN        S  \n",
      "4    female  22.0      1      1             3101298   12.2875   NaN        S  \n",
      "..      ...   ...    ...    ...                 ...       ...   ...      ...  \n",
      "413    male   NaN      0      0           A.5. 3236    8.0500   NaN        S  \n",
      "414  female  39.0      0      0            PC 17758  108.9000  C105        C  \n",
      "415    male  38.5      0      0  SOTON/O.Q. 3101262    7.2500   NaN        S  \n",
      "416    male   NaN      0      0              359309    8.0500   NaN        S  \n",
      "417    male   NaN      1      1                2668   22.3583   NaN        C  \n",
      "\n",
      "[418 rows x 11 columns]\n"
     ]
    }
   ],
   "source": [
    "training_data = pd.read_csv(training_file)\n",
    "testing_data = pd.read_csv(testing_file)\n",
    "control_data = pd.read_csv(control_file)\n",
    "print(training_data)\n",
    "print(testing_data)"
   ]
  },
  {
   "cell_type": "markdown",
   "id": "9f15147d",
   "metadata": {
    "papermill": {
     "duration": 0.004065,
     "end_time": "2022-09-20T00:03:21.347117",
     "exception": false,
     "start_time": "2022-09-20T00:03:21.343052",
     "status": "completed"
    },
    "tags": []
   },
   "source": [
    "Data preprocessing"
   ]
  },
  {
   "cell_type": "code",
   "execution_count": 3,
   "id": "e854ea99",
   "metadata": {
    "execution": {
     "iopub.execute_input": "2022-09-20T00:03:21.360524Z",
     "iopub.status.busy": "2022-09-20T00:03:21.359640Z",
     "iopub.status.idle": "2022-09-20T00:03:21.400309Z",
     "shell.execute_reply": "2022-09-20T00:03:21.397900Z"
    },
    "papermill": {
     "duration": 0.051387,
     "end_time": "2022-09-20T00:03:21.403897",
     "exception": false,
     "start_time": "2022-09-20T00:03:21.352510",
     "status": "completed"
    },
    "tags": []
   },
   "outputs": [
    {
     "name": "stdout",
     "output_type": "stream",
     "text": [
      "     Survived  Pclass     Sex   Age  SibSp  Parch     Fare Embarked\n",
      "0           0       3    male  22.0      1      0   7.2500        S\n",
      "1           1       1  female  38.0      1      0  71.2833        C\n",
      "2           1       3  female  26.0      0      0   7.9250        S\n",
      "3           1       1  female  35.0      1      0  53.1000        S\n",
      "4           0       3    male  35.0      0      0   8.0500        S\n",
      "..        ...     ...     ...   ...    ...    ...      ...      ...\n",
      "886         0       2    male  27.0      0      0  13.0000        S\n",
      "887         1       1  female  19.0      0      0  30.0000        S\n",
      "888         0       3  female   NaN      1      2  23.4500        S\n",
      "889         1       1    male  26.0      0      0  30.0000        C\n",
      "890         0       3    male  32.0      0      0   7.7500        Q\n",
      "\n",
      "[891 rows x 8 columns]\n",
      "     Pclass     Sex   Age  SibSp  Parch      Fare Embarked\n",
      "0         3    male  34.5      0      0    7.8292        Q\n",
      "1         3  female  47.0      1      0    7.0000        S\n",
      "2         2    male  62.0      0      0    9.6875        Q\n",
      "3         3    male  27.0      0      0    8.6625        S\n",
      "4         3  female  22.0      1      1   12.2875        S\n",
      "..      ...     ...   ...    ...    ...       ...      ...\n",
      "413       3    male   NaN      0      0    8.0500        S\n",
      "414       1  female  39.0      0      0  108.9000        C\n",
      "415       3    male  38.5      0      0    7.2500        S\n",
      "416       3    male   NaN      0      0    8.0500        S\n",
      "417       3    male   NaN      1      1   22.3583        C\n",
      "\n",
      "[418 rows x 7 columns]\n"
     ]
    }
   ],
   "source": [
    "# remove extranoues features from data\n",
    "def data_drop(df,x):\n",
    "    df=df.drop(\"Ticket\", axis=1)\n",
    "    df=df.drop(\"Name\", axis=1)\n",
    "    if x == 0:\n",
    "        df=df.drop(\"PassengerId\", axis=1)\n",
    "    #df=df.drop(\"Fare\", axis=1)\n",
    "    df=df.drop(\"Cabin\", axis=1)\n",
    "    #df=df.drop(\"Age\", axis=1)\n",
    "    return df\n",
    "\n",
    "control_testing = data_drop(testing_data, 1)\n",
    "training_data = data_drop(training_data,0)\n",
    "testing_data = data_drop(testing_data,0)\n",
    "print(training_data)\n",
    "print(testing_data)"
   ]
  },
  {
   "cell_type": "code",
   "execution_count": 4,
   "id": "a74668ea",
   "metadata": {
    "execution": {
     "iopub.execute_input": "2022-09-20T00:03:21.416036Z",
     "iopub.status.busy": "2022-09-20T00:03:21.415322Z",
     "iopub.status.idle": "2022-09-20T00:03:21.461890Z",
     "shell.execute_reply": "2022-09-20T00:03:21.460607Z"
    },
    "papermill": {
     "duration": 0.058213,
     "end_time": "2022-09-20T00:03:21.466842",
     "exception": false,
     "start_time": "2022-09-20T00:03:21.408629",
     "status": "completed"
    },
    "tags": []
   },
   "outputs": [
    {
     "name": "stdout",
     "output_type": "stream",
     "text": [
      "     Survived  Pclass     Sex        Age  SibSp  Parch     Fare Embarked\n",
      "0           0       3    male  22.000000      1      0   7.2500        S\n",
      "1           1       1  female  38.000000      1      0  71.2833        C\n",
      "2           1       3  female  26.000000      0      0   7.9250        S\n",
      "3           1       1  female  35.000000      1      0  53.1000        S\n",
      "4           0       3    male  35.000000      0      0   8.0500        S\n",
      "..        ...     ...     ...        ...    ...    ...      ...      ...\n",
      "884         0       2    male  27.000000      0      0  13.0000        S\n",
      "885         1       1  female  19.000000      0      0  30.0000        S\n",
      "886         0       3  female  29.699118      1      2  23.4500        S\n",
      "887         1       1    male  26.000000      0      0  30.0000        C\n",
      "888         0       3    male  32.000000      0      0   7.7500        Q\n",
      "\n",
      "[889 rows x 8 columns]\n",
      "     Pclass     Sex       Age  SibSp  Parch      Fare Embarked\n",
      "0         3    male  34.50000      0      0    7.8292        Q\n",
      "1         3  female  47.00000      1      0    7.0000        S\n",
      "2         2    male  62.00000      0      0    9.6875        Q\n",
      "3         3    male  27.00000      0      0    8.6625        S\n",
      "4         3  female  22.00000      1      1   12.2875        S\n",
      "..      ...     ...       ...    ...    ...       ...      ...\n",
      "412       3    male  30.27259      0      0    8.0500        S\n",
      "413       1  female  39.00000      0      0  108.9000        C\n",
      "414       3    male  38.50000      0      0    7.2500        S\n",
      "415       3    male  30.27259      0      0    8.0500        S\n",
      "416       3    male  30.27259      1      1   22.3583        C\n",
      "\n",
      "[417 rows x 7 columns]\n"
     ]
    }
   ],
   "source": [
    "# remove cells from the training set with missing relevant data\n",
    "def data_check(df):\n",
    "    df['Age'] = df['Age'].fillna(df['Age'].mean())\n",
    "    df = df.dropna(axis=0)\n",
    "    df = df.reset_index()\n",
    "    df = df.drop(\"index\", axis=1)\n",
    "    return df\n",
    "control_testing = data_check(control_testing)\n",
    "training_data = data_check(training_data)\n",
    "testing_data = data_check(testing_data)\n",
    "print(training_data)\n",
    "print(testing_data)"
   ]
  },
  {
   "cell_type": "markdown",
   "id": "021a4ea7",
   "metadata": {
    "papermill": {
     "duration": 0.004189,
     "end_time": "2022-09-20T00:03:21.476834",
     "exception": false,
     "start_time": "2022-09-20T00:03:21.472645",
     "status": "completed"
    },
    "tags": []
   },
   "source": [
    "Convert alphanumeric data to numeric"
   ]
  },
  {
   "cell_type": "code",
   "execution_count": 5,
   "id": "ca0dc5aa",
   "metadata": {
    "execution": {
     "iopub.execute_input": "2022-09-20T00:03:21.489103Z",
     "iopub.status.busy": "2022-09-20T00:03:21.488600Z",
     "iopub.status.idle": "2022-09-20T00:03:21.543689Z",
     "shell.execute_reply": "2022-09-20T00:03:21.541745Z"
    },
    "papermill": {
     "duration": 0.06496,
     "end_time": "2022-09-20T00:03:21.547119",
     "exception": false,
     "start_time": "2022-09-20T00:03:21.482159",
     "status": "completed"
    },
    "tags": []
   },
   "outputs": [
    {
     "name": "stdout",
     "output_type": "stream",
     "text": [
      "     Survived  Pclass Sex        Age  SibSp  Parch     Fare Embarked\n",
      "0           0       3   0  22.000000      1      0   7.2500        0\n",
      "1           1       1   1  38.000000      1      0  71.2833        1\n",
      "2           1       3   1  26.000000      0      0   7.9250        0\n",
      "3           1       1   1  35.000000      1      0  53.1000        0\n",
      "4           0       3   0  35.000000      0      0   8.0500        0\n",
      "..        ...     ...  ..        ...    ...    ...      ...      ...\n",
      "884         0       2   0  27.000000      0      0  13.0000        0\n",
      "885         1       1   1  19.000000      0      0  30.0000        0\n",
      "886         0       3   1  29.699118      1      2  23.4500        0\n",
      "887         1       1   0  26.000000      0      0  30.0000        1\n",
      "888         0       3   0  32.000000      0      0   7.7500        2\n",
      "\n",
      "[889 rows x 8 columns]\n",
      "     Pclass Sex       Age  SibSp  Parch      Fare Embarked\n",
      "0         3   0  34.50000      0      0    7.8292        2\n",
      "1         3   1  47.00000      1      0    7.0000        0\n",
      "2         2   0  62.00000      0      0    9.6875        2\n",
      "3         3   0  27.00000      0      0    8.6625        0\n",
      "4         3   1  22.00000      1      1   12.2875        0\n",
      "..      ...  ..       ...    ...    ...       ...      ...\n",
      "412       3   0  30.27259      0      0    8.0500        0\n",
      "413       1   1  39.00000      0      0  108.9000        1\n",
      "414       3   0  38.50000      0      0    7.2500        0\n",
      "415       3   0  30.27259      0      0    8.0500        0\n",
      "416       3   0  30.27259      1      1   22.3583        1\n",
      "\n",
      "[417 rows x 7 columns]\n"
     ]
    }
   ],
   "source": [
    "def alpha_to_num(df):\n",
    "    df['Sex'].mask(df['Sex'] == 'male', 0, inplace=True)\n",
    "    df['Sex'].mask(df['Sex'] == 'female', 1, inplace=True)\n",
    "    df['Embarked'].mask(df['Embarked'] == 'S', 0, inplace=True)\n",
    "    df['Embarked'].mask(df['Embarked'] == 'C', 1, inplace=True)\n",
    "    df['Embarked'].mask(df['Embarked'] == 'Q', 2, inplace=True)\n",
    "    \n",
    "    df['Embarked'] = df['Embarked'].astype('category')\n",
    "    df['Sex'] = df['Sex'].astype('category')\n",
    "    return df\n",
    "control_testing = alpha_to_num(control_testing)\n",
    "training_data = alpha_to_num(training_data)\n",
    "testing_data = alpha_to_num(testing_data)\n",
    "print(training_data)\n",
    "print(testing_data)"
   ]
  },
  {
   "cell_type": "markdown",
   "id": "3f6c5ad0",
   "metadata": {
    "papermill": {
     "duration": 0.00478,
     "end_time": "2022-09-20T00:03:21.557228",
     "exception": false,
     "start_time": "2022-09-20T00:03:21.552448",
     "status": "completed"
    },
    "tags": []
   },
   "source": [
    "Training and Testing Decision Trees"
   ]
  },
  {
   "cell_type": "code",
   "execution_count": 6,
   "id": "a0a76261",
   "metadata": {
    "execution": {
     "iopub.execute_input": "2022-09-20T00:03:21.569025Z",
     "iopub.status.busy": "2022-09-20T00:03:21.568510Z",
     "iopub.status.idle": "2022-09-20T00:03:22.415558Z",
     "shell.execute_reply": "2022-09-20T00:03:22.413589Z"
    },
    "papermill": {
     "duration": 0.857539,
     "end_time": "2022-09-20T00:03:22.419397",
     "exception": false,
     "start_time": "2022-09-20T00:03:21.561858",
     "status": "completed"
    },
    "tags": []
   },
   "outputs": [
    {
     "name": "stdout",
     "output_type": "stream",
     "text": [
      "Model accuracy (training): 0.83582\n"
     ]
    }
   ],
   "source": [
    "x = training_data[['Pclass', 'Sex', 'Age','SibSp', 'Parch', 'Fare', 'Embarked']].to_numpy()\n",
    "y = training_data[['Survived']].to_numpy().ravel()\n",
    "\n",
    "X_train, X_test, y_train, y_test = train_test_split(x, y, test_size=0.15, random_state = 42)\n",
    "\n",
    "testing_data = testing_data.to_numpy()\n",
    "model = RandomForestClassifier(max_depth = 5, min_impurity_decrease=0.01, n_estimators = 501, bootstrap = False)\n",
    "model = model.fit(X_train, y_train)\n",
    "print(\"Model accuracy (training): \" + str(round(model.score(X_test, y_test), 5)))\n",
    "survival_predictions = model.predict(testing_data)"
   ]
  },
  {
   "cell_type": "markdown",
   "id": "40f05948",
   "metadata": {
    "papermill": {
     "duration": 0.005204,
     "end_time": "2022-09-20T00:03:22.429579",
     "exception": false,
     "start_time": "2022-09-20T00:03:22.424375",
     "status": "completed"
    },
    "tags": []
   },
   "source": [
    "Formatting and Comparing Results"
   ]
  },
  {
   "cell_type": "code",
   "execution_count": 7,
   "id": "68be932f",
   "metadata": {
    "execution": {
     "iopub.execute_input": "2022-09-20T00:03:22.442570Z",
     "iopub.status.busy": "2022-09-20T00:03:22.442089Z",
     "iopub.status.idle": "2022-09-20T00:03:22.487270Z",
     "shell.execute_reply": "2022-09-20T00:03:22.485220Z"
    },
    "papermill": {
     "duration": 0.05766,
     "end_time": "2022-09-20T00:03:22.492068",
     "exception": false,
     "start_time": "2022-09-20T00:03:22.434408",
     "status": "completed"
    },
    "tags": []
   },
   "outputs": [
    {
     "name": "stdout",
     "output_type": "stream",
     "text": [
      "     PassengerId  Survived\n",
      "0            892         0\n",
      "1            893         0\n",
      "2            894         0\n",
      "3            895         0\n",
      "4            896         0\n",
      "..           ...       ...\n",
      "413         1305         0\n",
      "414         1306         1\n",
      "415         1307         0\n",
      "416         1308         0\n",
      "417         1309         0\n",
      "\n",
      "[418 rows x 2 columns]\n",
      "Model accuracy (predicted vs gendered): 0.83493\n"
     ]
    }
   ],
   "source": [
    "results = pd.DataFrame(survival_predictions, columns = ['Survived'])\n",
    "pass_id = control_testing[\"PassengerId\"]\n",
    "results = results.join(pass_id)\n",
    "cols = results.columns.tolist()\n",
    "cols = cols[-1:] + cols[:-1]\n",
    "results = results[cols]\n",
    "#print(results)\n",
    "\n",
    "def fill_missing_range(df, field, range_from, range_to, range_step=1, fill_with=0):\n",
    "    return df\\\n",
    "      .merge(how='right', on=field,\n",
    "            right = pd.DataFrame({field:np.arange(range_from, range_to, range_step)}))\\\n",
    "      .sort_values(by=field).reset_index().fillna(fill_with).drop(['index'], axis=1)\n",
    "\n",
    "results = fill_missing_range(results, \"PassengerId\", 892, 1310, 1, -1)\n",
    "results[\"Survived\"] = results[\"Survived\"].astype(int)\n",
    "print(results)\n",
    "\n",
    "print(\"Model accuracy (predicted vs gendered): \" + str(round(accuracy_score(control_data[\"Survived\"], results[\"Survived\"]), 5)))\n",
    "results.to_csv(\"submission.csv\", index=False)"
   ]
  },
  {
   "cell_type": "code",
   "execution_count": null,
   "id": "6b172c15",
   "metadata": {
    "papermill": {
     "duration": 0.004155,
     "end_time": "2022-09-20T00:03:22.501181",
     "exception": false,
     "start_time": "2022-09-20T00:03:22.497026",
     "status": "completed"
    },
    "tags": []
   },
   "outputs": [],
   "source": []
  }
 ],
 "metadata": {
  "kernelspec": {
   "display_name": "Python 3",
   "language": "python",
   "name": "python3"
  },
  "language_info": {
   "codemirror_mode": {
    "name": "ipython",
    "version": 3
   },
   "file_extension": ".py",
   "mimetype": "text/x-python",
   "name": "python",
   "nbconvert_exporter": "python",
   "pygments_lexer": "ipython3",
   "version": "3.7.12"
  },
  "papermill": {
   "default_parameters": {},
   "duration": 17.580993,
   "end_time": "2022-09-20T00:03:23.634781",
   "environment_variables": {},
   "exception": null,
   "input_path": "__notebook__.ipynb",
   "output_path": "__notebook__.ipynb",
   "parameters": {},
   "start_time": "2022-09-20T00:03:06.053788",
   "version": "2.3.4"
  }
 },
 "nbformat": 4,
 "nbformat_minor": 5
}
