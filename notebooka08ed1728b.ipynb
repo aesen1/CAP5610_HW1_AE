{
 "cells": [
  {
   "cell_type": "markdown",
   "id": "28b96086",
   "metadata": {
    "papermill": {
     "duration": 0.004461,
     "end_time": "2022-09-19T01:50:38.026284",
     "exception": false,
     "start_time": "2022-09-19T01:50:38.021823",
     "status": "completed"
    },
    "tags": []
   },
   "source": [
    "Setting up"
   ]
  },
  {
   "cell_type": "code",
   "execution_count": 1,
   "id": "a57b2923",
   "metadata": {
    "execution": {
     "iopub.execute_input": "2022-09-19T01:50:38.036379Z",
     "iopub.status.busy": "2022-09-19T01:50:38.035113Z",
     "iopub.status.idle": "2022-09-19T01:50:39.298706Z",
     "shell.execute_reply": "2022-09-19T01:50:39.297366Z"
    },
    "papermill": {
     "duration": 1.271212,
     "end_time": "2022-09-19T01:50:39.301342",
     "exception": false,
     "start_time": "2022-09-19T01:50:38.030130",
     "status": "completed"
    },
    "tags": []
   },
   "outputs": [
    {
     "name": "stdout",
     "output_type": "stream",
     "text": [
      "['titanic']\n"
     ]
    }
   ],
   "source": [
    "import numpy as np\n",
    "import pandas as pd\n",
    "from sklearn import linear_model\n",
    "from sklearn import tree\n",
    "from sklearn.metrics import accuracy_score\n",
    "from sklearn import metrics\n",
    "\n",
    "import os\n",
    "print(os.listdir(\"../input\"))\n",
    "\n",
    "training_file = \"../input/titanic/train.csv\"\n",
    "testing_file = \"../input/titanic/test.csv\"\n",
    "control_file = \"../input/titanic/gender_submission.csv\""
   ]
  },
  {
   "cell_type": "code",
   "execution_count": 2,
   "id": "9fe95b28",
   "metadata": {
    "execution": {
     "iopub.execute_input": "2022-09-19T01:50:39.310645Z",
     "iopub.status.busy": "2022-09-19T01:50:39.309856Z",
     "iopub.status.idle": "2022-09-19T01:50:39.372594Z",
     "shell.execute_reply": "2022-09-19T01:50:39.371353Z"
    },
    "papermill": {
     "duration": 0.070118,
     "end_time": "2022-09-19T01:50:39.375151",
     "exception": false,
     "start_time": "2022-09-19T01:50:39.305033",
     "status": "completed"
    },
    "tags": []
   },
   "outputs": [
    {
     "name": "stdout",
     "output_type": "stream",
     "text": [
      "     PassengerId  Survived  Pclass  \\\n",
      "0              1         0       3   \n",
      "1              2         1       1   \n",
      "2              3         1       3   \n",
      "3              4         1       1   \n",
      "4              5         0       3   \n",
      "..           ...       ...     ...   \n",
      "886          887         0       2   \n",
      "887          888         1       1   \n",
      "888          889         0       3   \n",
      "889          890         1       1   \n",
      "890          891         0       3   \n",
      "\n",
      "                                                  Name     Sex   Age  SibSp  \\\n",
      "0                              Braund, Mr. Owen Harris    male  22.0      1   \n",
      "1    Cumings, Mrs. John Bradley (Florence Briggs Th...  female  38.0      1   \n",
      "2                               Heikkinen, Miss. Laina  female  26.0      0   \n",
      "3         Futrelle, Mrs. Jacques Heath (Lily May Peel)  female  35.0      1   \n",
      "4                             Allen, Mr. William Henry    male  35.0      0   \n",
      "..                                                 ...     ...   ...    ...   \n",
      "886                              Montvila, Rev. Juozas    male  27.0      0   \n",
      "887                       Graham, Miss. Margaret Edith  female  19.0      0   \n",
      "888           Johnston, Miss. Catherine Helen \"Carrie\"  female   NaN      1   \n",
      "889                              Behr, Mr. Karl Howell    male  26.0      0   \n",
      "890                                Dooley, Mr. Patrick    male  32.0      0   \n",
      "\n",
      "     Parch            Ticket     Fare Cabin Embarked  \n",
      "0        0         A/5 21171   7.2500   NaN        S  \n",
      "1        0          PC 17599  71.2833   C85        C  \n",
      "2        0  STON/O2. 3101282   7.9250   NaN        S  \n",
      "3        0            113803  53.1000  C123        S  \n",
      "4        0            373450   8.0500   NaN        S  \n",
      "..     ...               ...      ...   ...      ...  \n",
      "886      0            211536  13.0000   NaN        S  \n",
      "887      0            112053  30.0000   B42        S  \n",
      "888      2        W./C. 6607  23.4500   NaN        S  \n",
      "889      0            111369  30.0000  C148        C  \n",
      "890      0            370376   7.7500   NaN        Q  \n",
      "\n",
      "[891 rows x 12 columns]\n",
      "     PassengerId  Pclass                                          Name  \\\n",
      "0            892       3                              Kelly, Mr. James   \n",
      "1            893       3              Wilkes, Mrs. James (Ellen Needs)   \n",
      "2            894       2                     Myles, Mr. Thomas Francis   \n",
      "3            895       3                              Wirz, Mr. Albert   \n",
      "4            896       3  Hirvonen, Mrs. Alexander (Helga E Lindqvist)   \n",
      "..           ...     ...                                           ...   \n",
      "413         1305       3                            Spector, Mr. Woolf   \n",
      "414         1306       1                  Oliva y Ocana, Dona. Fermina   \n",
      "415         1307       3                  Saether, Mr. Simon Sivertsen   \n",
      "416         1308       3                           Ware, Mr. Frederick   \n",
      "417         1309       3                      Peter, Master. Michael J   \n",
      "\n",
      "        Sex   Age  SibSp  Parch              Ticket      Fare Cabin Embarked  \n",
      "0      male  34.5      0      0              330911    7.8292   NaN        Q  \n",
      "1    female  47.0      1      0              363272    7.0000   NaN        S  \n",
      "2      male  62.0      0      0              240276    9.6875   NaN        Q  \n",
      "3      male  27.0      0      0              315154    8.6625   NaN        S  \n",
      "4    female  22.0      1      1             3101298   12.2875   NaN        S  \n",
      "..      ...   ...    ...    ...                 ...       ...   ...      ...  \n",
      "413    male   NaN      0      0           A.5. 3236    8.0500   NaN        S  \n",
      "414  female  39.0      0      0            PC 17758  108.9000  C105        C  \n",
      "415    male  38.5      0      0  SOTON/O.Q. 3101262    7.2500   NaN        S  \n",
      "416    male   NaN      0      0              359309    8.0500   NaN        S  \n",
      "417    male   NaN      1      1                2668   22.3583   NaN        C  \n",
      "\n",
      "[418 rows x 11 columns]\n"
     ]
    }
   ],
   "source": [
    "training_data = pd.read_csv(training_file)\n",
    "testing_data = pd.read_csv(testing_file)\n",
    "control_data = pd.read_csv(control_file)\n",
    "print(training_data)\n",
    "print(testing_data)"
   ]
  },
  {
   "cell_type": "markdown",
   "id": "8ba91f19",
   "metadata": {
    "papermill": {
     "duration": 0.003337,
     "end_time": "2022-09-19T01:50:39.382323",
     "exception": false,
     "start_time": "2022-09-19T01:50:39.378986",
     "status": "completed"
    },
    "tags": []
   },
   "source": [
    "Data preprocessing"
   ]
  },
  {
   "cell_type": "code",
   "execution_count": 3,
   "id": "cdf37b52",
   "metadata": {
    "execution": {
     "iopub.execute_input": "2022-09-19T01:50:39.391085Z",
     "iopub.status.busy": "2022-09-19T01:50:39.390698Z",
     "iopub.status.idle": "2022-09-19T01:50:39.424355Z",
     "shell.execute_reply": "2022-09-19T01:50:39.422667Z"
    },
    "papermill": {
     "duration": 0.041206,
     "end_time": "2022-09-19T01:50:39.427019",
     "exception": false,
     "start_time": "2022-09-19T01:50:39.385813",
     "status": "completed"
    },
    "tags": []
   },
   "outputs": [
    {
     "name": "stdout",
     "output_type": "stream",
     "text": [
      "     Survived  Pclass     Sex  SibSp  Parch     Fare Embarked\n",
      "0           0       3    male      1      0   7.2500        S\n",
      "1           1       1  female      1      0  71.2833        C\n",
      "2           1       3  female      0      0   7.9250        S\n",
      "3           1       1  female      1      0  53.1000        S\n",
      "4           0       3    male      0      0   8.0500        S\n",
      "..        ...     ...     ...    ...    ...      ...      ...\n",
      "886         0       2    male      0      0  13.0000        S\n",
      "887         1       1  female      0      0  30.0000        S\n",
      "888         0       3  female      1      2  23.4500        S\n",
      "889         1       1    male      0      0  30.0000        C\n",
      "890         0       3    male      0      0   7.7500        Q\n",
      "\n",
      "[891 rows x 7 columns]\n",
      "     Pclass     Sex  SibSp  Parch      Fare Embarked\n",
      "0         3    male      0      0    7.8292        Q\n",
      "1         3  female      1      0    7.0000        S\n",
      "2         2    male      0      0    9.6875        Q\n",
      "3         3    male      0      0    8.6625        S\n",
      "4         3  female      1      1   12.2875        S\n",
      "..      ...     ...    ...    ...       ...      ...\n",
      "413       3    male      0      0    8.0500        S\n",
      "414       1  female      0      0  108.9000        C\n",
      "415       3    male      0      0    7.2500        S\n",
      "416       3    male      0      0    8.0500        S\n",
      "417       3    male      1      1   22.3583        C\n",
      "\n",
      "[418 rows x 6 columns]\n"
     ]
    }
   ],
   "source": [
    "# remove extranoues features from data\n",
    "def data_drop(df,x):\n",
    "    df=df.drop(\"Ticket\", axis=1)\n",
    "    df=df.drop(\"Name\", axis=1)\n",
    "    if x == 0:\n",
    "        df=df.drop(\"PassengerId\", axis=1)\n",
    "    #df=df.drop(\"Fare\", axis=1)\n",
    "    df=df.drop(\"Cabin\", axis=1)\n",
    "    df=df.drop(\"Age\", axis=1)\n",
    "    return df\n",
    "\n",
    "control_testing = data_drop(testing_data, 1)\n",
    "training_data = data_drop(training_data,0)\n",
    "testing_data = data_drop(testing_data,0)\n",
    "print(training_data)\n",
    "print(testing_data)"
   ]
  },
  {
   "cell_type": "code",
   "execution_count": 4,
   "id": "9cebf54b",
   "metadata": {
    "execution": {
     "iopub.execute_input": "2022-09-19T01:50:39.436829Z",
     "iopub.status.busy": "2022-09-19T01:50:39.436411Z",
     "iopub.status.idle": "2022-09-19T01:50:39.467041Z",
     "shell.execute_reply": "2022-09-19T01:50:39.464855Z"
    },
    "papermill": {
     "duration": 0.039401,
     "end_time": "2022-09-19T01:50:39.470422",
     "exception": false,
     "start_time": "2022-09-19T01:50:39.431021",
     "status": "completed"
    },
    "tags": []
   },
   "outputs": [
    {
     "name": "stdout",
     "output_type": "stream",
     "text": [
      "     Survived  Pclass     Sex  SibSp  Parch     Fare Embarked\n",
      "0           0       3    male      1      0   7.2500        S\n",
      "1           1       1  female      1      0  71.2833        C\n",
      "2           1       3  female      0      0   7.9250        S\n",
      "3           1       1  female      1      0  53.1000        S\n",
      "4           0       3    male      0      0   8.0500        S\n",
      "..        ...     ...     ...    ...    ...      ...      ...\n",
      "884         0       2    male      0      0  13.0000        S\n",
      "885         1       1  female      0      0  30.0000        S\n",
      "886         0       3  female      1      2  23.4500        S\n",
      "887         1       1    male      0      0  30.0000        C\n",
      "888         0       3    male      0      0   7.7500        Q\n",
      "\n",
      "[889 rows x 7 columns]\n",
      "     Pclass     Sex  SibSp  Parch      Fare Embarked\n",
      "0         3    male      0      0    7.8292        Q\n",
      "1         3  female      1      0    7.0000        S\n",
      "2         2    male      0      0    9.6875        Q\n",
      "3         3    male      0      0    8.6625        S\n",
      "4         3  female      1      1   12.2875        S\n",
      "..      ...     ...    ...    ...       ...      ...\n",
      "412       3    male      0      0    8.0500        S\n",
      "413       1  female      0      0  108.9000        C\n",
      "414       3    male      0      0    7.2500        S\n",
      "415       3    male      0      0    8.0500        S\n",
      "416       3    male      1      1   22.3583        C\n",
      "\n",
      "[417 rows x 6 columns]\n"
     ]
    }
   ],
   "source": [
    "# remove cells from the training set with missing relevant data\n",
    "def data_check(df):\n",
    "    #df['Age'] = df['Age'].fillna(df['Age'].mean())\n",
    "    df = df.dropna(axis=0)\n",
    "    df = df.reset_index()\n",
    "    df = df.drop(\"index\", axis=1)\n",
    "    return df\n",
    "control_testing = data_check(control_testing)\n",
    "training_data = data_check(training_data)\n",
    "testing_data = data_check(testing_data)\n",
    "print(training_data)\n",
    "print(testing_data)"
   ]
  },
  {
   "cell_type": "markdown",
   "id": "61c3efda",
   "metadata": {
    "papermill": {
     "duration": 0.003918,
     "end_time": "2022-09-19T01:50:39.478384",
     "exception": false,
     "start_time": "2022-09-19T01:50:39.474466",
     "status": "completed"
    },
    "tags": []
   },
   "source": [
    "Convert alphanumeric data to numeric"
   ]
  },
  {
   "cell_type": "code",
   "execution_count": 5,
   "id": "a0bad751",
   "metadata": {
    "execution": {
     "iopub.execute_input": "2022-09-19T01:50:39.489066Z",
     "iopub.status.busy": "2022-09-19T01:50:39.488630Z",
     "iopub.status.idle": "2022-09-19T01:50:39.532668Z",
     "shell.execute_reply": "2022-09-19T01:50:39.530132Z"
    },
    "papermill": {
     "duration": 0.053524,
     "end_time": "2022-09-19T01:50:39.536039",
     "exception": false,
     "start_time": "2022-09-19T01:50:39.482515",
     "status": "completed"
    },
    "tags": []
   },
   "outputs": [
    {
     "name": "stdout",
     "output_type": "stream",
     "text": [
      "     Survived  Pclass Sex  SibSp  Parch     Fare Embarked\n",
      "0           0       3   0      1      0   7.2500        0\n",
      "1           1       1   1      1      0  71.2833        1\n",
      "2           1       3   1      0      0   7.9250        0\n",
      "3           1       1   1      1      0  53.1000        0\n",
      "4           0       3   0      0      0   8.0500        0\n",
      "..        ...     ...  ..    ...    ...      ...      ...\n",
      "884         0       2   0      0      0  13.0000        0\n",
      "885         1       1   1      0      0  30.0000        0\n",
      "886         0       3   1      1      2  23.4500        0\n",
      "887         1       1   0      0      0  30.0000        1\n",
      "888         0       3   0      0      0   7.7500        2\n",
      "\n",
      "[889 rows x 7 columns]\n",
      "     Pclass Sex  SibSp  Parch      Fare Embarked\n",
      "0         3   0      0      0    7.8292        2\n",
      "1         3   1      1      0    7.0000        0\n",
      "2         2   0      0      0    9.6875        2\n",
      "3         3   0      0      0    8.6625        0\n",
      "4         3   1      1      1   12.2875        0\n",
      "..      ...  ..    ...    ...       ...      ...\n",
      "412       3   0      0      0    8.0500        0\n",
      "413       1   1      0      0  108.9000        1\n",
      "414       3   0      0      0    7.2500        0\n",
      "415       3   0      0      0    8.0500        0\n",
      "416       3   0      1      1   22.3583        1\n",
      "\n",
      "[417 rows x 6 columns]\n"
     ]
    }
   ],
   "source": [
    "def alpha_to_num(df):\n",
    "    df['Sex'].mask(df['Sex'] == 'male', 0, inplace=True)\n",
    "    df['Sex'].mask(df['Sex'] == 'female', 1, inplace=True)\n",
    "    df['Embarked'].mask(df['Embarked'] == 'S', 0, inplace=True)\n",
    "    df['Embarked'].mask(df['Embarked'] == 'C', 1, inplace=True)\n",
    "    df['Embarked'].mask(df['Embarked'] == 'Q', 2, inplace=True)\n",
    "    \n",
    "    df['Embarked'] = df['Embarked'].astype('category')\n",
    "    df['Sex'] = df['Sex'].astype('category')\n",
    "    return df\n",
    "control_testing = alpha_to_num(control_testing)\n",
    "training_data = alpha_to_num(training_data)\n",
    "testing_data = alpha_to_num(testing_data)\n",
    "print(training_data)\n",
    "print(testing_data)"
   ]
  },
  {
   "cell_type": "markdown",
   "id": "5884d2d6",
   "metadata": {
    "papermill": {
     "duration": 0.005616,
     "end_time": "2022-09-19T01:50:39.547970",
     "exception": false,
     "start_time": "2022-09-19T01:50:39.542354",
     "status": "completed"
    },
    "tags": []
   },
   "source": [
    "Training and Testing Decision Trees"
   ]
  },
  {
   "cell_type": "code",
   "execution_count": 6,
   "id": "c482da9f",
   "metadata": {
    "execution": {
     "iopub.execute_input": "2022-09-19T01:50:39.559815Z",
     "iopub.status.busy": "2022-09-19T01:50:39.558996Z",
     "iopub.status.idle": "2022-09-19T01:50:39.573106Z",
     "shell.execute_reply": "2022-09-19T01:50:39.571597Z"
    },
    "papermill": {
     "duration": 0.0221,
     "end_time": "2022-09-19T01:50:39.575791",
     "exception": false,
     "start_time": "2022-09-19T01:50:39.553691",
     "status": "completed"
    },
    "tags": []
   },
   "outputs": [
    {
     "name": "stdout",
     "output_type": "stream",
     "text": [
      "Model accuracy (training): 0.89\n"
     ]
    }
   ],
   "source": [
    "x = training_data[['Pclass', 'Sex', 'SibSp', 'Parch', 'Fare', 'Embarked']]\n",
    "y = training_data[['Survived']]\n",
    "\n",
    "x = x.to_numpy()\n",
    "y = y.to_numpy()\n",
    "\n",
    "testing_data = testing_data.to_numpy()\n",
    "model = tree.DecisionTreeClassifier(max_depth = 10)\n",
    "model = model.fit(x, y)\n",
    "print(\"Model accuracy (training): \" + str(round(model.score(x, y), 2)))\n",
    "survival_predictions = model.predict(testing_data)"
   ]
  },
  {
   "cell_type": "markdown",
   "id": "a4d722d6",
   "metadata": {
    "papermill": {
     "duration": 0.003867,
     "end_time": "2022-09-19T01:50:39.583920",
     "exception": false,
     "start_time": "2022-09-19T01:50:39.580053",
     "status": "completed"
    },
    "tags": []
   },
   "source": [
    "Formatting and Comparing Results"
   ]
  },
  {
   "cell_type": "code",
   "execution_count": 7,
   "id": "9978272a",
   "metadata": {
    "execution": {
     "iopub.execute_input": "2022-09-19T01:50:39.593579Z",
     "iopub.status.busy": "2022-09-19T01:50:39.593183Z",
     "iopub.status.idle": "2022-09-19T01:50:39.630143Z",
     "shell.execute_reply": "2022-09-19T01:50:39.629054Z"
    },
    "papermill": {
     "duration": 0.045541,
     "end_time": "2022-09-19T01:50:39.633428",
     "exception": false,
     "start_time": "2022-09-19T01:50:39.587887",
     "status": "completed"
    },
    "tags": []
   },
   "outputs": [
    {
     "name": "stdout",
     "output_type": "stream",
     "text": [
      "     PassengerId  Survived\n",
      "0            892         0\n",
      "1            893         1\n",
      "2            894         0\n",
      "3            895         0\n",
      "4            896         1\n",
      "..           ...       ...\n",
      "413         1305         0\n",
      "414         1306         1\n",
      "415         1307         0\n",
      "416         1308         0\n",
      "417         1309         0\n",
      "\n",
      "[418 rows x 2 columns]\n",
      "Model accuracy (predicted vs gendered): 0.88\n"
     ]
    }
   ],
   "source": [
    "results = pd.DataFrame(survival_predictions, columns = ['Survived'])\n",
    "pass_id = control_testing[\"PassengerId\"]\n",
    "results = results.join(pass_id)\n",
    "cols = results.columns.tolist()\n",
    "cols = cols[-1:] + cols[:-1]\n",
    "results = results[cols]\n",
    "#print(results)\n",
    "\n",
    "def fill_missing_range(df, field, range_from, range_to, range_step=1, fill_with=0):\n",
    "    return df\\\n",
    "      .merge(how='right', on=field,\n",
    "            right = pd.DataFrame({field:np.arange(range_from, range_to, range_step)}))\\\n",
    "      .sort_values(by=field).reset_index().fillna(fill_with).drop(['index'], axis=1)\n",
    "\n",
    "results = fill_missing_range(results, \"PassengerId\", 892, 1310, 1, -1)\n",
    "results[\"Survived\"] = results[\"Survived\"].astype(int)\n",
    "print(results)\n",
    "\n",
    "print(\"Model accuracy (predicted vs gendered): \" + str(round(accuracy_score(control_data[\"Survived\"], results[\"Survived\"]), 2)))\n",
    "results.to_csv(\"submission.csv\", index=False)"
   ]
  },
  {
   "cell_type": "code",
   "execution_count": null,
   "id": "c27d4945",
   "metadata": {
    "papermill": {
     "duration": 0.004087,
     "end_time": "2022-09-19T01:50:39.642493",
     "exception": false,
     "start_time": "2022-09-19T01:50:39.638406",
     "status": "completed"
    },
    "tags": []
   },
   "outputs": [],
   "source": []
  }
 ],
 "metadata": {
  "kernelspec": {
   "display_name": "Python 3",
   "language": "python",
   "name": "python3"
  },
  "language_info": {
   "codemirror_mode": {
    "name": "ipython",
    "version": 3
   },
   "file_extension": ".py",
   "mimetype": "text/x-python",
   "name": "python",
   "nbconvert_exporter": "python",
   "pygments_lexer": "ipython3",
   "version": "3.7.12"
  },
  "papermill": {
   "default_parameters": {},
   "duration": 11.192661,
   "end_time": "2022-09-19T01:50:40.367463",
   "environment_variables": {},
   "exception": null,
   "input_path": "__notebook__.ipynb",
   "output_path": "__notebook__.ipynb",
   "parameters": {},
   "start_time": "2022-09-19T01:50:29.174802",
   "version": "2.3.4"
  }
 },
 "nbformat": 4,
 "nbformat_minor": 5
}
