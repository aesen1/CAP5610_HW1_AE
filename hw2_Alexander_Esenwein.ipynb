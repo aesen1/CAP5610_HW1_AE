{
 "cells": [
  {
   "cell_type": "markdown",
   "id": "82f38411",
   "metadata": {},
   "source": [
    "## Setting Up"
   ]
  },
  {
   "cell_type": "code",
   "execution_count": 142,
   "id": "32fbd287",
   "metadata": {},
   "outputs": [
    {
     "name": "stdout",
     "output_type": "stream",
     "text": [
      "['titanic']\n"
     ]
    }
   ],
   "source": [
    "import numpy as np\n",
    "import pandas as pd\n",
    "from sklearn import tree\n",
    "from sklearn.metrics import accuracy_score\n",
    "from sklearn.ensemble import RandomForestClassifier\n",
    "from sklearn.model_selection import train_test_split\n",
    "from sklearn import preprocessing\n",
    "from sklearn import metrics\n",
    "\n",
    "import os\n",
    "print(os.listdir(\"../input\"))\n",
    "\n",
    "training_file = \"../input/titanic/train.csv\"\n",
    "testing_file = \"../input/titanic/test.csv\"\n",
    "control_file = \"../input/titanic/gender_submission.csv\"\n",
    "\n",
    "training_data = pd.read_csv(training_file)\n",
    "testing_data = pd.read_csv(testing_file)"
   ]
  },
  {
   "cell_type": "markdown",
   "id": "e49f0805",
   "metadata": {},
   "source": [
    "## Question 1.1"
   ]
  },
  {
   "cell_type": "code",
   "execution_count": 143,
   "id": "f6657f34",
   "metadata": {},
   "outputs": [
    {
     "name": "stdout",
     "output_type": "stream",
     "text": [
      "     Survived  Pclass Sex        Age  SibSp  Parch     Fare Embarked\n",
      "0           0       3   0  22.000000      1      0   7.2500        0\n",
      "1           1       1   1  38.000000      1      0  71.2833        1\n",
      "2           1       3   1  26.000000      0      0   7.9250        0\n",
      "3           1       1   1  35.000000      1      0  53.1000        0\n",
      "4           0       3   0  35.000000      0      0   8.0500        0\n",
      "..        ...     ...  ..        ...    ...    ...      ...      ...\n",
      "884         0       2   0  27.000000      0      0  13.0000        0\n",
      "885         1       1   1  19.000000      0      0  30.0000        0\n",
      "886         0       3   1  29.699118      1      2  23.4500        0\n",
      "887         1       1   0  26.000000      0      0  30.0000        1\n",
      "888         0       3   0  32.000000      0      0   7.7500        2\n",
      "\n",
      "[889 rows x 8 columns]\n",
      "     Pclass     Sex       Age  SibSp  Parch      Fare Embarked\n",
      "0         3    male  34.50000      0      0    7.8292        Q\n",
      "1         3  female  47.00000      1      0    7.0000        S\n",
      "2         2    male  62.00000      0      0    9.6875        Q\n",
      "3         3    male  27.00000      0      0    8.6625        S\n",
      "4         3  female  22.00000      1      1   12.2875        S\n",
      "..      ...     ...       ...    ...    ...       ...      ...\n",
      "412       3    male  30.27259      0      0    8.0500        S\n",
      "413       1  female  39.00000      0      0  108.9000        C\n",
      "414       3    male  38.50000      0      0    7.2500        S\n",
      "415       3    male  30.27259      0      0    8.0500        S\n",
      "416       3    male  30.27259      1      1   22.3583        C\n",
      "\n",
      "[417 rows x 7 columns]\n"
     ]
    }
   ],
   "source": [
    "def data_drop(df,x):\n",
    "    df=df.drop(\"Ticket\", axis=1)\n",
    "    df=df.drop(\"Name\", axis=1)\n",
    "    if x == 0:\n",
    "        df=df.drop(\"PassengerId\", axis=1)\n",
    "    #df=df.drop(\"Fare\", axis=1)\n",
    "    df=df.drop(\"Cabin\", axis=1)\n",
    "    #df=df.drop(\"Age\", axis=1)\n",
    "    return df\n",
    "\n",
    "control_testing = data_drop(testing_data, 1)\n",
    "training_data = data_drop(training_data,0)\n",
    "testing_data = data_drop(testing_data,0)\n",
    "\n",
    "def data_check(df):\n",
    "    df['Age'] = df['Age'].fillna(df['Age'].mean())\n",
    "    df = df.dropna(axis=0)\n",
    "    df = df.reset_index()\n",
    "    df = df.drop(\"index\", axis=1)\n",
    "    return df\n",
    "training_data = data_check(training_data)\n",
    "testing_data = data_check(testing_data)\n",
    "\n",
    "def alpha_to_num(df):\n",
    "    df['Sex'].mask(df['Sex'] == 'male', 0, inplace=True)\n",
    "    df['Sex'].mask(df['Sex'] == 'female', 1, inplace=True)\n",
    "    df['Embarked'].mask(df['Embarked'] == 'S', 0, inplace=True)\n",
    "    df['Embarked'].mask(df['Embarked'] == 'C', 1, inplace=True)\n",
    "    df['Embarked'].mask(df['Embarked'] == 'Q', 2, inplace=True)\n",
    "    \n",
    "    df['Embarked'] = df['Embarked'].astype('category')\n",
    "    df['Sex'] = df['Sex'].astype('category')\n",
    "    return df\n",
    "control_testing = alpha_to_num(control_testing)\n",
    "training_data = alpha_to_num(training_data)\n",
    "print(training_data)\n",
    "print(testing_data)\n",
    "\n",
    "x = training_data[['Pclass', 'Sex', 'Age','SibSp', 'Parch', 'Fare', 'Embarked']].to_numpy()\n",
    "y = training_data[['Survived']].to_numpy().ravel()\n",
    "\n",
    "X_train, X_test, y_train, y_test = train_test_split(x, y, test_size=0.15, random_state = 42)"
   ]
  },
  {
   "cell_type": "markdown",
   "id": "dd2bcdce",
   "metadata": {},
   "source": [
    "## Question 1.2"
   ]
  },
  {
   "cell_type": "code",
   "execution_count": 144,
   "id": "7bb2cf10",
   "metadata": {},
   "outputs": [
    {
     "data": {
      "text/plain": [
       "[Text(0.5416666666666666, 0.9, 'X[1] <= 0.5\\ngini = 0.475\\nsamples = 755\\nvalue = [462, 293]'),\n",
       " Text(0.3333333333333333, 0.7, 'X[5] <= 26.269\\ngini = 0.317\\nsamples = 491\\nvalue = [394, 97]'),\n",
       " Text(0.16666666666666666, 0.5, 'X[2] <= 13.5\\ngini = 0.233\\nsamples = 349\\nvalue = [302, 47]'),\n",
       " Text(0.08333333333333333, 0.3, 'gini = 0.26\\nsamples = 13\\nvalue = [2, 11]'),\n",
       " Text(0.25, 0.3, 'gini = 0.191\\nsamples = 336\\nvalue = [300, 36]'),\n",
       " Text(0.5, 0.5, 'X[3] <= 2.5\\ngini = 0.456\\nsamples = 142\\nvalue = [92, 50]'),\n",
       " Text(0.4166666666666667, 0.3, 'X[2] <= 13.5\\ngini = 0.483\\nsamples = 120\\nvalue = [71, 49]'),\n",
       " Text(0.3333333333333333, 0.1, 'gini = 0.0\\nsamples = 7\\nvalue = [0, 7]'),\n",
       " Text(0.5, 0.1, 'gini = 0.467\\nsamples = 113\\nvalue = [71, 42]'),\n",
       " Text(0.5833333333333334, 0.3, 'gini = 0.087\\nsamples = 22\\nvalue = [21, 1]'),\n",
       " Text(0.75, 0.7, 'X[0] <= 2.5\\ngini = 0.382\\nsamples = 264\\nvalue = [68, 196]'),\n",
       " Text(0.6666666666666666, 0.5, 'gini = 0.094\\nsamples = 141\\nvalue = [7, 134]'),\n",
       " Text(0.8333333333333334, 0.5, 'X[5] <= 23.35\\ngini = 0.5\\nsamples = 123\\nvalue = [61, 62]'),\n",
       " Text(0.75, 0.3, 'gini = 0.479\\nsamples = 98\\nvalue = [39, 59]'),\n",
       " Text(0.9166666666666666, 0.3, 'gini = 0.211\\nsamples = 25\\nvalue = [22, 3]')]"
      ]
     },
     "execution_count": 144,
     "metadata": {},
     "output_type": "execute_result"
    },
    {
     "data": {
      "image/png": "[encoded data removed]",
      "text/plain": [
       "<Figure size 432x288 with 1 Axes>"
      ]
     },
     "metadata": {
      "needs_background": "light"
     },
     "output_type": "display_data"
    }
   ],
   "source": [
    "dt = tree.DecisionTreeClassifier(max_depth = 5, min_impurity_decrease = 0.005)\n",
    "dt.fit(X_train, y_train)\n",
    "tree.plot_tree(dt)"
   ]
  },
  {
   "cell_type": "markdown",
   "id": "9ab5ccf8",
   "metadata": {},
   "source": [
    "## Question 1.3"
   ]
  },
  {
   "cell_type": "code",
   "execution_count": 145,
   "id": "55ac261c",
   "metadata": {},
   "outputs": [
    {
     "name": "stdout",
     "output_type": "stream",
     "text": [
      "0.8432835820895522\n",
      "0.8013245033112583\n"
     ]
    }
   ],
   "source": [
    "from sklearn.model_selection import cross_val_score\n",
    "dt_result = cross_val_score(dt, X_train, y_train, cv=5, scoring = \"accuracy\")\n",
    "print(dt.score(X_test, y_test))\n",
    "print(dt_result.mean())"
   ]
  },
  {
   "cell_type": "markdown",
   "id": "4964148e",
   "metadata": {},
   "source": [
    "## Question 1.4"
   ]
  },
  {
   "cell_type": "code",
   "execution_count": 146,
   "id": "446c7259",
   "metadata": {},
   "outputs": [
    {
     "name": "stdout",
     "output_type": "stream",
     "text": [
      "0.8283582089552238\n",
      "0.8092715231788079\n"
     ]
    }
   ],
   "source": [
    "rf = RandomForestClassifier(n_estimators=101, max_depth = 5, min_impurity_decrease = 0.005, bootstrap=False, random_state=0)\n",
    "rf.fit(X_train, y_train)\n",
    "rf_result = cross_val_score(rf, X_train, y_train, cv=5, scoring = \"accuracy\")\n",
    "print(rf.score(X_test, y_test))\n",
    "print(rf_result.mean())"
   ]
  },
  {
   "cell_type": "markdown",
   "id": "4994c44d",
   "metadata": {},
   "source": [
    "## Question 1.5"
   ]
  }
 ],
 "metadata": {
  "kernelspec": {
   "display_name": "Python 3 (ipykernel)",
   "language": "python",
   "name": "python3"
  },
  "language_info": {
   "codemirror_mode": {
    "name": "ipython",
    "version": 3
   },
   "file_extension": ".py",
   "mimetype": "text/x-python",
   "name": "python",
   "nbconvert_exporter": "python",
   "pygments_lexer": "ipython3",
   "version": "3.9.7"
  }
 },
 "nbformat": 4,
 "nbformat_minor": 5
}
