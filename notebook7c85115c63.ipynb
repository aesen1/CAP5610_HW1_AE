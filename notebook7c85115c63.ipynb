{
 "cells": [
  {
   "cell_type": "code",
   "execution_count": 1,
   "id": "3baf5ac3",
   "metadata": {
    "execution": {
     "iopub.execute_input": "2022-11-26T01:29:10.047356Z",
     "iopub.status.busy": "2022-11-26T01:29:10.046873Z",
     "iopub.status.idle": "2022-11-26T01:29:11.166423Z",
     "shell.execute_reply": "2022-11-26T01:29:11.165755Z"
    },
    "papermill": {
     "duration": 1.126621,
     "end_time": "2022-11-26T01:29:11.168592",
     "exception": false,
     "start_time": "2022-11-26T01:29:10.041971",
     "status": "completed"
    },
    "tags": []
   },
   "outputs": [],
   "source": [
    "import pandas as pd\n",
    "import numpy as np\n",
    "import math\n",
    "\n",
    "from sklearn.utils import resample\n",
    "from sklearn.model_selection import RandomizedSearchCV\n",
    "from sklearn.metrics import classification_report\n",
    "from sklearn.ensemble import AdaBoostClassifier\n",
    "from sklearn.ensemble import RandomForestClassifier\n",
    "from sklearn.neighbors import KNeighborsClassifier\n",
    "from sklearn.model_selection import train_test_split\n",
    "from sklearn.ensemble import VotingClassifier\n",
    "from sklearn.tree import DecisionTreeClassifier\n",
    "from sklearn.preprocessing import StandardScaler\n",
    "from imblearn.over_sampling import SMOTE\n",
    "from sklearn.naive_bayes import GaussianNB\n",
    "from sklearn.ensemble import GradientBoostingClassifier"
   ]
  },
  {
   "cell_type": "code",
   "execution_count": 2,
   "id": "b8dede24",
   "metadata": {
    "execution": {
     "iopub.execute_input": "2022-11-26T01:29:11.175253Z",
     "iopub.status.busy": "2022-11-26T01:29:11.174565Z",
     "iopub.status.idle": "2022-11-26T01:29:11.260776Z",
     "shell.execute_reply": "2022-11-26T01:29:11.259894Z"
    },
    "papermill": {
     "duration": 0.091564,
     "end_time": "2022-11-26T01:29:11.262877",
     "exception": false,
     "start_time": "2022-11-26T01:29:11.171313",
     "status": "completed"
    },
    "tags": []
   },
   "outputs": [
    {
     "name": "stdout",
     "output_type": "stream",
     "text": [
      "     PassengerId HomePlanet CryoSleep     Cabin    Destination   Age    VIP  \\\n",
      "0        0001_01     Europa     False     B/0/P    TRAPPIST-1e  39.0  False   \n",
      "1        0002_01      Earth     False     F/0/S    TRAPPIST-1e  24.0  False   \n",
      "2        0003_01     Europa     False     A/0/S    TRAPPIST-1e  58.0   True   \n",
      "3        0003_02     Europa     False     A/0/S    TRAPPIST-1e  33.0  False   \n",
      "4        0004_01      Earth     False     F/1/S    TRAPPIST-1e  16.0  False   \n",
      "...          ...        ...       ...       ...            ...   ...    ...   \n",
      "8688     9276_01     Europa     False    A/98/P    55 Cancri e  41.0   True   \n",
      "8689     9278_01      Earth      True  G/1499/S  PSO J318.5-22  18.0  False   \n",
      "8690     9279_01      Earth     False  G/1500/S    TRAPPIST-1e  26.0  False   \n",
      "8691     9280_01     Europa     False   E/608/S    55 Cancri e  32.0  False   \n",
      "8692     9280_02     Europa     False   E/608/S    TRAPPIST-1e  44.0  False   \n",
      "\n",
      "      RoomService  FoodCourt  ShoppingMall     Spa  VRDeck               Name  \\\n",
      "0             0.0        0.0           0.0     0.0     0.0    Maham Ofracculy   \n",
      "1           109.0        9.0          25.0   549.0    44.0       Juanna Vines   \n",
      "2            43.0     3576.0           0.0  6715.0    49.0      Altark Susent   \n",
      "3             0.0     1283.0         371.0  3329.0   193.0       Solam Susent   \n",
      "4           303.0       70.0         151.0   565.0     2.0  Willy Santantines   \n",
      "...           ...        ...           ...     ...     ...                ...   \n",
      "8688          0.0     6819.0           0.0  1643.0    74.0  Gravior Noxnuther   \n",
      "8689          0.0        0.0           0.0     0.0     0.0    Kurta Mondalley   \n",
      "8690          0.0        0.0        1872.0     1.0     0.0       Fayey Connon   \n",
      "8691          0.0     1049.0           0.0   353.0  3235.0   Celeon Hontichre   \n",
      "8692        126.0     4688.0           0.0     0.0    12.0   Propsh Hontichre   \n",
      "\n",
      "      Transported  \n",
      "0           False  \n",
      "1            True  \n",
      "2           False  \n",
      "3           False  \n",
      "4            True  \n",
      "...           ...  \n",
      "8688        False  \n",
      "8689        False  \n",
      "8690         True  \n",
      "8691        False  \n",
      "8692         True  \n",
      "\n",
      "[8693 rows x 14 columns]\n",
      "PassengerId      object\n",
      "HomePlanet       object\n",
      "CryoSleep        object\n",
      "Cabin            object\n",
      "Destination      object\n",
      "Age             float64\n",
      "VIP              object\n",
      "RoomService     float64\n",
      "FoodCourt       float64\n",
      "ShoppingMall    float64\n",
      "Spa             float64\n",
      "VRDeck          float64\n",
      "Name             object\n",
      "Transported        bool\n",
      "dtype: object\n"
     ]
    }
   ],
   "source": [
    "train_data=pd.read_csv(\"/kaggle/input/spaceship-titanic/train.csv\")\n",
    "test_data=pd.read_csv(\"/kaggle/input/spaceship-titanic/test.csv\")\n",
    "print(train_data)\n",
    "print(train_data.dtypes)\n",
    "#print(test_data)\n",
    "PassengerID=test_data['PassengerId']"
   ]
  },
  {
   "cell_type": "code",
   "execution_count": 3,
   "id": "4b770cf2",
   "metadata": {
    "execution": {
     "iopub.execute_input": "2022-11-26T01:29:11.269998Z",
     "iopub.status.busy": "2022-11-26T01:29:11.269719Z",
     "iopub.status.idle": "2022-11-26T01:29:11.296917Z",
     "shell.execute_reply": "2022-11-26T01:29:11.295983Z"
    },
    "papermill": {
     "duration": 0.032283,
     "end_time": "2022-11-26T01:29:11.298688",
     "exception": false,
     "start_time": "2022-11-26T01:29:11.266405",
     "status": "completed"
    },
    "tags": []
   },
   "outputs": [],
   "source": [
    "train_data[['deck','num', 'side']] = train_data['Cabin'].str.split('/', expand=True)\n",
    "test_data[['deck','num', 'side']] = test_data['Cabin'].str.split('/', expand=True)"
   ]
  },
  {
   "cell_type": "code",
   "execution_count": 4,
   "id": "912cf86a",
   "metadata": {
    "execution": {
     "iopub.execute_input": "2022-11-26T01:29:11.304804Z",
     "iopub.status.busy": "2022-11-26T01:29:11.304541Z",
     "iopub.status.idle": "2022-11-26T01:29:11.368577Z",
     "shell.execute_reply": "2022-11-26T01:29:11.367812Z"
    },
    "papermill": {
     "duration": 0.069564,
     "end_time": "2022-11-26T01:29:11.370800",
     "exception": false,
     "start_time": "2022-11-26T01:29:11.301236",
     "status": "completed"
    },
    "tags": []
   },
   "outputs": [],
   "source": [
    "#PassengerId\n",
    "train_data = train_data.drop(['PassengerId'], axis=1)\n",
    "test_data = test_data.drop(['PassengerId'], axis=1)\n",
    "#HomePlanet\n",
    "train_data['HomePlanet'] = train_data['HomePlanet'].fillna(train_data['HomePlanet'].mode()[0])\n",
    "test_data['HomePlanet'] = test_data['HomePlanet'].fillna(test_data['HomePlanet'].mode()[0])\n",
    "#CryoSleep\n",
    "train_data['CryoSleep'] = train_data['CryoSleep'].fillna(train_data['CryoSleep'].mode()[0])\n",
    "test_data['CryoSleep'] = test_data['CryoSleep'].fillna(test_data['CryoSleep'].mode()[0])\n",
    "#Cabin\n",
    "train_data = train_data.drop(['Cabin'], axis=1)\n",
    "test_data = test_data.drop(['Cabin'], axis=1)\n",
    "#Deck\n",
    "train_data['deck'] = train_data['deck'].fillna(train_data['deck'].mode()[0])\n",
    "test_data['deck'] = test_data['deck'].fillna(test_data['deck'].mode()[0])\n",
    "#Num\n",
    "train_data['num'] = train_data['num'].fillna(train_data['num'].mode()[0])\n",
    "test_data['num'] = test_data['num'].fillna(test_data['num'].mode()[0])\n",
    "train_data['num'] = train_data['num'].astype('int32')\n",
    "test_data['num'] = test_data['num'].astype('int32')\n",
    "#Side\n",
    "train_data['side'] = train_data['side'].fillna(train_data['side'].mode()[0])\n",
    "test_data['side'] = test_data['side'].fillna(test_data['side'].mode()[0])\n",
    "#Destination\n",
    "train_data['Destination'] = train_data['Destination'].fillna(train_data['Destination'].mode()[0])\n",
    "test_data['Destination'] = test_data['Destination'].fillna(test_data['Destination'].mode()[0])\n",
    "#Age\n",
    "train_data['Age'] = train_data['Age'].fillna(train_data['Age'].mean())\n",
    "test_data['Age'] = test_data['Age'].fillna(test_data['Age'].mean())\n",
    "#VIP\n",
    "train_data['VIP'] = train_data['VIP'].fillna(train_data['VIP'].mode()[0])\n",
    "test_data['VIP'] = test_data['VIP'].fillna(test_data['VIP'].mode()[0])\n",
    "#Luxuries\n",
    "train_data['Luxuries'] = train_data[['RoomService', 'Spa', 'VRDeck']].sum(axis=1)\n",
    "test_data['Luxuries'] = test_data[['RoomService', 'Spa', 'VRDeck']].sum(axis=1)\n",
    "#Basic\n",
    "train_data['Basic'] = train_data[['FoodCourt', 'ShoppingMall']].sum(axis=1)\n",
    "test_data['Basic'] = test_data[['FoodCourt', 'ShoppingMall']].sum(axis=1)\n",
    "#RoomService\n",
    "train_data = train_data.drop(['RoomService'], axis=1)\n",
    "test_data = test_data.drop(['RoomService'], axis=1)\n",
    "#FoodCourt\n",
    "train_data = train_data.drop(['FoodCourt'], axis=1)\n",
    "test_data = test_data.drop(['FoodCourt'], axis=1)\n",
    "#ShoppingMall\n",
    "train_data = train_data.drop(['ShoppingMall'], axis=1)\n",
    "test_data = test_data.drop(['ShoppingMall'], axis=1)\n",
    "#Spa\n",
    "train_data = train_data.drop(['Spa'], axis=1)\n",
    "test_data = test_data.drop(['Spa'], axis=1)\n",
    "#VRDeck\n",
    "train_data = train_data.drop(['VRDeck'], axis=1)\n",
    "test_data = test_data.drop(['VRDeck'], axis=1)\n",
    "#Name\n",
    "train_data = train_data.drop(['Name'], axis=1)\n",
    "test_data = test_data.drop(['Name'], axis=1)"
   ]
  },
  {
   "cell_type": "code",
   "execution_count": 5,
   "id": "699cf726",
   "metadata": {
    "execution": {
     "iopub.execute_input": "2022-11-26T01:29:11.376988Z",
     "iopub.status.busy": "2022-11-26T01:29:11.376722Z",
     "iopub.status.idle": "2022-11-26T01:29:11.437847Z",
     "shell.execute_reply": "2022-11-26T01:29:11.436286Z"
    },
    "papermill": {
     "duration": 0.066428,
     "end_time": "2022-11-26T01:29:11.439938",
     "exception": false,
     "start_time": "2022-11-26T01:29:11.373510",
     "status": "completed"
    },
    "tags": []
   },
   "outputs": [
    {
     "name": "stdout",
     "output_type": "stream",
     "text": [
      "HomePlanet     category\n",
      "CryoSleep          bool\n",
      "Destination    category\n",
      "Age             float64\n",
      "VIP                bool\n",
      "Transported        bool\n",
      "deck           category\n",
      "num               int32\n",
      "side           category\n",
      "Luxuries        float64\n",
      "Basic           float64\n",
      "dtype: object\n",
      "  HomePlanet  CryoSleep Destination   Age    VIP  Transported deck  num side  \\\n",
      "0          0      False           0  39.0  False        False    0    0    0   \n",
      "1          0      False           0  24.0  False         True    0    0    0   \n",
      "2          0      False           0  58.0   True        False    0    0    0   \n",
      "3          0      False           0  33.0  False        False    0    0    0   \n",
      "4          0      False           0  16.0  False         True    0    1    0   \n",
      "\n",
      "   Luxuries   Basic  \n",
      "0       0.0     0.0  \n",
      "1     702.0    34.0  \n",
      "2    6807.0  3576.0  \n",
      "3    3522.0  1654.0  \n",
      "4     870.0   221.0  \n",
      "HomePlanet     category\n",
      "CryoSleep          bool\n",
      "Destination    category\n",
      "Age             float64\n",
      "VIP                bool\n",
      "deck           category\n",
      "num               int32\n",
      "side           category\n",
      "Luxuries        float64\n",
      "Basic           float64\n",
      "dtype: object\n",
      "  HomePlanet  CryoSleep Destination   Age    VIP deck  num side  Luxuries  \\\n",
      "0          0       True           0  27.0  False    0    3    0       0.0   \n",
      "1          0      False           0  19.0  False    0    4    0    2823.0   \n",
      "2          0       True           0  31.0  False    0    0    0       0.0   \n",
      "3          0      False           0  38.0  False    0    1    0     766.0   \n",
      "4          0      False           0  20.0  False    0    5    0      10.0   \n",
      "\n",
      "    Basic  \n",
      "0     0.0  \n",
      "1     9.0  \n",
      "2     0.0  \n",
      "3  6652.0  \n",
      "4   635.0  \n"
     ]
    }
   ],
   "source": [
    "def type_cleaner(df):\n",
    "    for x in df.columns:\n",
    "        if 'object' in str(df[x].dtype):\n",
    "            uniq = df[x].unique()\n",
    "            uniq.sort()\n",
    "            counter = 0\n",
    "            for y in uniq:\n",
    "                df[x].mask(df[x] == y, counter, inplace=True)\n",
    "            df[x] = df[x].astype('category')\n",
    "    return df\n",
    "\n",
    "train_data = type_cleaner(train_data)\n",
    "test_data = type_cleaner(test_data)\n",
    "\n",
    "print(train_data.dtypes)\n",
    "print(train_data.head())\n",
    "print(test_data.dtypes)\n",
    "print(test_data.head())"
   ]
  },
  {
   "cell_type": "code",
   "execution_count": 6,
   "id": "9fda5db5",
   "metadata": {
    "execution": {
     "iopub.execute_input": "2022-11-26T01:29:11.446768Z",
     "iopub.status.busy": "2022-11-26T01:29:11.446406Z",
     "iopub.status.idle": "2022-11-26T01:29:11.496730Z",
     "shell.execute_reply": "2022-11-26T01:29:11.495536Z"
    },
    "papermill": {
     "duration": 0.055807,
     "end_time": "2022-11-26T01:29:11.498832",
     "exception": false,
     "start_time": "2022-11-26T01:29:11.443025",
     "status": "completed"
    },
    "tags": []
   },
   "outputs": [
    {
     "name": "stderr",
     "output_type": "stream",
     "text": [
      "/opt/conda/lib/python3.7/site-packages/sklearn/utils/validation.py:976: FutureWarning: Arrays of bytes/strings is being converted to decimal numbers if dtype='numeric'. This behavior is deprecated in 0.24 and will be removed in 1.1 (renaming of 0.26). Please convert your data to numeric values explicitly instead.\n",
      "  estimator=estimator,\n"
     ]
    }
   ],
   "source": [
    "x = train_data[['HomePlanet', 'CryoSleep', 'Destination', 'Age', 'VIP', 'deck', 'num', 'side', 'Luxuries', 'Basic']]\n",
    "y = train_data[['Transported']]\n",
    "scaler = StandardScaler()\n",
    "\n",
    "X_train, X_test, y_train, y_test = train_test_split(x, y, test_size=0.15)\n",
    "#_train = pd.DataFrame(scaler.fit_transform(X_train), columns = X_train.columns)\n",
    "#_test = pd.DataFrame(scaler.fit_transform(X_test), columns = X_test.columns)\n",
    "X_train, y_train = SMOTE().fit_resample(X_train, y_train)"
   ]
  },
  {
   "cell_type": "code",
   "execution_count": 7,
   "id": "4e4d9b06",
   "metadata": {
    "execution": {
     "iopub.execute_input": "2022-11-26T01:29:11.506969Z",
     "iopub.status.busy": "2022-11-26T01:29:11.505976Z",
     "iopub.status.idle": "2022-11-26T01:29:48.776994Z",
     "shell.execute_reply": "2022-11-26T01:29:48.775746Z"
    },
    "papermill": {
     "duration": 37.2771,
     "end_time": "2022-11-26T01:29:48.778959",
     "exception": false,
     "start_time": "2022-11-26T01:29:11.501859",
     "status": "completed"
    },
    "tags": []
   },
   "outputs": [
    {
     "name": "stderr",
     "output_type": "stream",
     "text": [
      "/opt/conda/lib/python3.7/site-packages/ipykernel_launcher.py:5: DataConversionWarning: A column-vector y was passed when a 1d array was expected. Please change the shape of y to (n_samples,), for example using ravel().\n",
      "  \"\"\"\n",
      "/opt/conda/lib/python3.7/site-packages/sklearn/utils/validation.py:993: DataConversionWarning: A column-vector y was passed when a 1d array was expected. Please change the shape of y to (n_samples, ), for example using ravel().\n",
      "  y = column_or_1d(y, warn=True)\n",
      "/opt/conda/lib/python3.7/site-packages/sklearn/utils/validation.py:976: FutureWarning: Arrays of bytes/strings is being converted to decimal numbers if dtype='numeric'. This behavior is deprecated in 0.24 and will be removed in 1.1 (renaming of 0.26). Please convert your data to numeric values explicitly instead.\n",
      "  estimator=estimator,\n",
      "/opt/conda/lib/python3.7/site-packages/sklearn/neighbors/_classification.py:198: DataConversionWarning: A column-vector y was passed when a 1d array was expected. Please change the shape of y to (n_samples,), for example using ravel().\n",
      "  return self._fit(X, y)\n",
      "/opt/conda/lib/python3.7/site-packages/sklearn/utils/validation.py:993: DataConversionWarning: A column-vector y was passed when a 1d array was expected. Please change the shape of y to (n_samples, ), for example using ravel().\n",
      "  y = column_or_1d(y, warn=True)\n",
      "/opt/conda/lib/python3.7/site-packages/sklearn/utils/validation.py:976: FutureWarning: Arrays of bytes/strings is being converted to decimal numbers if dtype='numeric'. This behavior is deprecated in 0.24 and will be removed in 1.1 (renaming of 0.26). Please convert your data to numeric values explicitly instead.\n",
      "  estimator=estimator,\n",
      "/opt/conda/lib/python3.7/site-packages/sklearn/ensemble/_gb.py:494: DataConversionWarning: A column-vector y was passed when a 1d array was expected. Please change the shape of y to (n_samples, ), for example using ravel().\n",
      "  y = column_or_1d(y, warn=True)\n",
      "/opt/conda/lib/python3.7/site-packages/sklearn/preprocessing/_label.py:98: DataConversionWarning: A column-vector y was passed when a 1d array was expected. Please change the shape of y to (n_samples, ), for example using ravel().\n",
      "  y = column_or_1d(y, warn=True)\n",
      "/opt/conda/lib/python3.7/site-packages/sklearn/preprocessing/_label.py:133: DataConversionWarning: A column-vector y was passed when a 1d array was expected. Please change the shape of y to (n_samples, ), for example using ravel().\n",
      "  y = column_or_1d(y, warn=True)\n",
      "/opt/conda/lib/python3.7/site-packages/sklearn/utils/validation.py:976: FutureWarning: Arrays of bytes/strings is being converted to decimal numbers if dtype='numeric'. This behavior is deprecated in 0.24 and will be removed in 1.1 (renaming of 0.26). Please convert your data to numeric values explicitly instead.\n",
      "  estimator=estimator,\n",
      "/opt/conda/lib/python3.7/site-packages/sklearn/utils/validation.py:976: FutureWarning: Arrays of bytes/strings is being converted to decimal numbers if dtype='numeric'. This behavior is deprecated in 0.24 and will be removed in 1.1 (renaming of 0.26). Please convert your data to numeric values explicitly instead.\n",
      "  estimator=estimator,\n"
     ]
    },
    {
     "name": "stdout",
     "output_type": "stream",
     "text": [
      "              precision    recall  f1-score   support\n",
      "\n",
      "       False       0.83      0.74      0.79       649\n",
      "        True       0.77      0.85      0.81       655\n",
      "\n",
      "    accuracy                           0.80      1304\n",
      "   macro avg       0.80      0.80      0.80      1304\n",
      "weighted avg       0.80      0.80      0.80      1304\n",
      "\n"
     ]
    },
    {
     "name": "stderr",
     "output_type": "stream",
     "text": [
      "/opt/conda/lib/python3.7/site-packages/sklearn/base.py:566: FutureWarning: Arrays of bytes/strings is being converted to decimal numbers if dtype='numeric'. This behavior is deprecated in 0.24 and will be removed in 1.1 (renaming of 0.26). Please convert your data to numeric values explicitly instead.\n",
      "  X = check_array(X, **check_params)\n",
      "/opt/conda/lib/python3.7/site-packages/sklearn/base.py:566: FutureWarning: Arrays of bytes/strings is being converted to decimal numbers if dtype='numeric'. This behavior is deprecated in 0.24 and will be removed in 1.1 (renaming of 0.26). Please convert your data to numeric values explicitly instead.\n",
      "  X = check_array(X, **check_params)\n"
     ]
    }
   ],
   "source": [
    "#pick one\n",
    "#X_train, y_train = resample(X_train, y_train)\n",
    "######### RF\n",
    "rf = RandomForestClassifier(n_estimators=101, criterion='gini', min_impurity_decrease=0.0007, max_depth=4)\n",
    "rf.fit(X_train, y_train)\n",
    "\n",
    "######### ADA\n",
    "ada = AdaBoostClassifier(base_estimator=rf)\n",
    "ada.fit(X_train, y_train)\n",
    "\n",
    "######### KNN\n",
    "knn = KNeighborsClassifier(n_neighbors=7, weights='distance')\n",
    "knn.fit(X_train, y_train)\n",
    "\n",
    "######### GAUS\n",
    "gnb = GaussianNB()\n",
    "gnb.fit(X_train, y_train)\n",
    "\n",
    "######### GradientBoost\n",
    "gbc = GradientBoostingClassifier(n_estimators=101, max_depth=7, min_impurity_decrease=0.0007)\n",
    "gbc.fit(X_train, y_train)\n",
    "\n",
    "######### VOTER\n",
    "voter = VotingClassifier(estimators=[('rf', rf), ('ada', ada), ('knn', knn), ('gnb', gnb), ('gbc', gbc)],\n",
    "                        voting='soft')\n",
    "voter.fit(X_train, y_train)\n",
    "\n",
    "chosen = voter\n",
    "y_pred_voter = chosen.predict(X_test)\n",
    "print(classification_report(y_test, y_pred_voter))"
   ]
  },
  {
   "cell_type": "code",
   "execution_count": 8,
   "id": "571caaa6",
   "metadata": {
    "execution": {
     "iopub.execute_input": "2022-11-26T01:29:48.787359Z",
     "iopub.status.busy": "2022-11-26T01:29:48.787006Z",
     "iopub.status.idle": "2022-11-26T01:29:50.440415Z",
     "shell.execute_reply": "2022-11-26T01:29:50.439283Z"
    },
    "papermill": {
     "duration": 1.659933,
     "end_time": "2022-11-26T01:29:50.442314",
     "exception": false,
     "start_time": "2022-11-26T01:29:48.782381",
     "status": "completed"
    },
    "tags": []
   },
   "outputs": [
    {
     "name": "stderr",
     "output_type": "stream",
     "text": [
      "/opt/conda/lib/python3.7/site-packages/sklearn/base.py:566: FutureWarning: Arrays of bytes/strings is being converted to decimal numbers if dtype='numeric'. This behavior is deprecated in 0.24 and will be removed in 1.1 (renaming of 0.26). Please convert your data to numeric values explicitly instead.\n",
      "  X = check_array(X, **check_params)\n",
      "/opt/conda/lib/python3.7/site-packages/sklearn/base.py:566: FutureWarning: Arrays of bytes/strings is being converted to decimal numbers if dtype='numeric'. This behavior is deprecated in 0.24 and will be removed in 1.1 (renaming of 0.26). Please convert your data to numeric values explicitly instead.\n",
      "  X = check_array(X, **check_params)\n"
     ]
    }
   ],
   "source": [
    "pred=chosen.predict(test_data)\n",
    "predictions=pd.DataFrame(pred.astype(bool),columns=['Transported'])\n",
    "submit=pd.concat([PassengerID,predictions],axis=1)\n",
    "submit.to_csv(\"submission.csv\",index=False)"
   ]
  }
 ],
 "metadata": {
  "kernelspec": {
   "display_name": "Python 3",
   "language": "python",
   "name": "python3"
  },
  "language_info": {
   "codemirror_mode": {
    "name": "ipython",
    "version": 3
   },
   "file_extension": ".py",
   "mimetype": "text/x-python",
   "name": "python",
   "nbconvert_exporter": "python",
   "pygments_lexer": "ipython3",
   "version": "3.7.12"
  },
  "papermill": {
   "default_parameters": {},
   "duration": 48.013086,
   "end_time": "2022-11-26T01:29:51.166497",
   "environment_variables": {},
   "exception": null,
   "input_path": "__notebook__.ipynb",
   "output_path": "__notebook__.ipynb",
   "parameters": {},
   "start_time": "2022-11-26T01:29:03.153411",
   "version": "2.3.4"
  }
 },
 "nbformat": 4,
 "nbformat_minor": 5
}
